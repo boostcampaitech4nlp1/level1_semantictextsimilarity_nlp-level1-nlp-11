{
 "cells": [
  {
   "cell_type": "code",
   "execution_count": 9,
   "id": "e35b36f2-4f9c-49a9-955c-28dc53597b82",
   "metadata": {},
   "outputs": [],
   "source": [
    "import pandas as pd\n",
    "import numpy as np\n",
    "from collections import Counter\n",
    "from tqdm.notebook import tqdm\n",
    "import torch\n",
    "\n",
    "from torchmetrics.functional import pearson_corrcoef"
   ]
  },
  {
   "cell_type": "code",
   "execution_count": 21,
   "id": "4f1b53d9-a69d-43e8-b866-10a0f6a96f9e",
   "metadata": {},
   "outputs": [
    {
     "data": {
      "text/plain": [
       "tensor(-0.0180, dtype=torch.float64)"
      ]
     },
     "execution_count": 21,
     "metadata": {},
     "output_type": "execute_result"
    }
   ],
   "source": [
    "output = pd.read_csv('../gitcode/output_diff.csv')\n",
    "target = torch.tensor(output['target'])\n",
    "preds = torch.tensor(output['predicted_target'])\n",
    "\n",
    "pearson_corrcoef(preds, target)\n"
   ]
  },
  {
   "cell_type": "code",
   "execution_count": null,
   "id": "59378071-5002-445f-86c8-58cfc265de45",
   "metadata": {},
   "outputs": [],
   "source": []
  }
 ],
 "metadata": {
  "kernelspec": {
   "display_name": "Python 3 (ipykernel)",
   "language": "python",
   "name": "python3"
  },
  "language_info": {
   "codemirror_mode": {
    "name": "ipython",
    "version": 3
   },
   "file_extension": ".py",
   "mimetype": "text/x-python",
   "name": "python",
   "nbconvert_exporter": "python",
   "pygments_lexer": "ipython3",
   "version": "3.8.5"
  }
 },
 "nbformat": 4,
 "nbformat_minor": 5
}
